{
 "cells": [
  {
   "cell_type": "code",
   "execution_count": 13,
   "metadata": {},
   "outputs": [
    {
     "ename": "OperationalError",
     "evalue": "unable to open database file",
     "output_type": "error",
     "traceback": [
      "\u001b[1;31m---------------------------------------------------------------------------\u001b[0m",
      "\u001b[1;31mOperationalError\u001b[0m                          Traceback (most recent call last)",
      "\u001b[1;32m<ipython-input-13-7e4bbce1a837>\u001b[0m in \u001b[0;36m<module>\u001b[1;34m\u001b[0m\n\u001b[0;32m      1\u001b[0m \u001b[1;32mimport\u001b[0m \u001b[0msqlite3\u001b[0m\u001b[1;33m\u001b[0m\u001b[1;33m\u001b[0m\u001b[0m\n\u001b[1;32m----> 2\u001b[1;33m \u001b[0mconn\u001b[0m \u001b[1;33m=\u001b[0m \u001b[0msqlite3\u001b[0m\u001b[1;33m.\u001b[0m\u001b[0mconnect\u001b[0m\u001b[1;33m(\u001b[0m\u001b[1;34m'.../mydb/products.db'\u001b[0m\u001b[1;33m)\u001b[0m\u001b[1;33m\u001b[0m\u001b[1;33m\u001b[0m\u001b[0m\n\u001b[0m\u001b[0;32m      3\u001b[0m \u001b[0mcur\u001b[0m \u001b[1;33m=\u001b[0m \u001b[0mconn\u001b[0m\u001b[1;33m.\u001b[0m\u001b[0mcursor\u001b[0m\u001b[1;33m(\u001b[0m\u001b[1;33m)\u001b[0m\u001b[1;33m\u001b[0m\u001b[1;33m\u001b[0m\u001b[0m\n\u001b[0;32m      4\u001b[0m \u001b[1;33m\u001b[0m\u001b[0m\n\u001b[0;32m      5\u001b[0m \u001b[0mcur\u001b[0m\u001b[1;33m.\u001b[0m\u001b[0mexecute\u001b[0m\u001b[1;33m(\u001b[0m\u001b[1;34m'''SELECT * FROM PRODUCTS'''\u001b[0m\u001b[1;33m)\u001b[0m\u001b[1;33m\u001b[0m\u001b[1;33m\u001b[0m\u001b[0m\n",
      "\u001b[1;31mOperationalError\u001b[0m: unable to open database file"
     ]
    }
   ],
   "source": [
    "import sqlite3\n",
    "conn = sqlite3.connect('.../mydb/products.db')\n",
    "cur = conn.cursor()\n",
    "\n",
    "cur.execute('''SELECT * FROM PRODUCTS''')\n",
    "\n",
    "result=cur.fetchall()"
   ]
  },
  {
   "cell_type": "code",
   "execution_count": 14,
   "metadata": {},
   "outputs": [],
   "source": [
    "import sqlite3\n",
    "conn = sqlite3.connect('../io-server/products.db')\n",
    "cur = conn.cursor()\n",
    "\n",
    "cur.execute('''SELECT * FROM PRODUCTS''')\n",
    "\n",
    "result=cur.fetchall()"
   ]
  },
  {
   "cell_type": "code",
   "execution_count": 10,
   "metadata": {},
   "outputs": [
    {
     "data": {
      "text/plain": [
       "[('\\ufeffからあげ', 'からあげ', 280, 20, 'food', 'からあげ.jpg', 'からあげ.jpg', 1),\n",
       " ('チョコレート', 'ちょこれーと', 120, 20, 'sweets', 'チョコレート.jpg', 'チョコレート.jpg', 2),\n",
       " ('お茶', 'おちゃ', 150, 20, 'drink', 'お茶.png', 'お茶.png', 3),\n",
       " ('おもちゃ', 'おもちゃ', 1500, 10, 'goods', 'おもちゃ.png', 'おもちゃ.png', 4),\n",
       " ('コーラ', 'こーら', 160, 20, 'drink', 'コーラ.jpg', 'コーラ.jpg', 5),\n",
       " ('バニラアイス', 'ばにらあいす', 220, 20, 'sweets', 'バニラアイス.jpg', 'バニラアイス.jpg', 6),\n",
       " ('フライドポテト', 'ふらいどぽてと', 250, 20, 'food', 'フライドポテト.jpg', 'フライドポテト.jpg', 7),\n",
       " ('プリン', 'ぷりん', 280, 20, 'sweets', 'プリン.jpg', 'プリン.jpg', 8),\n",
       " ('ポテトチップス', 'ぽてとちっぷす', 180, 20, 'sweets', 'ポテトチップス.jpg', 'ポテトチップス.jpg', 9),\n",
       " ('ポケットティッシュ',\n",
       "  'ぽけっとてぃっしゅ',\n",
       "  80,\n",
       "  20,\n",
       "  'goods',\n",
       "  'ポケットティッシュ.jpg',\n",
       "  'ポケットティッシュ.jpg',\n",
       "  10),\n",
       " ('肉まん', 'にくまん', 220, 20, 'food', '肉まん.jpg', '肉まん.jpg', 11),\n",
       " ('抹茶アイス', 'まっちゃあいす', 220, 20, 'sweets', '抹茶アイス.jpg', '抹茶アイス.jpg', 12)]"
      ]
     },
     "execution_count": 10,
     "metadata": {},
     "output_type": "execute_result"
    }
   ],
   "source": [
    "result"
   ]
  },
  {
   "cell_type": "code",
   "execution_count": null,
   "metadata": {},
   "outputs": [],
   "source": [
    "mydb\\products.db\n",
    "miain-pys\\io-server\\test.ipynb"
   ]
  }
 ],
 "metadata": {
  "kernelspec": {
   "display_name": "vsBase",
   "language": "python",
   "name": "python3"
  },
  "language_info": {
   "codemirror_mode": {
    "name": "ipython",
    "version": 3
   },
   "file_extension": ".py",
   "mimetype": "text/x-python",
   "name": "python",
   "nbconvert_exporter": "python",
   "pygments_lexer": "ipython3",
   "version": "3.8.8 (default, Apr 13 2021, 15:08:03) [MSC v.1916 64 bit (AMD64)]"
  },
  "orig_nbformat": 4,
  "vscode": {
   "interpreter": {
    "hash": "8915fd78ebc913253a790db349a5146e463ea7ab5b66e0be29e20b3e943f8cde"
   }
  }
 },
 "nbformat": 4,
 "nbformat_minor": 2
}
